{
 "cells": [
  {
   "cell_type": "code",
   "execution_count": 6,
   "id": "df3095fd",
   "metadata": {
    "scrolled": true
   },
   "outputs": [
    {
     "name": "stderr",
     "output_type": "stream",
     "text": [
      "<ipython-input-6-f1d9126efb23>:4: DeprecationWarning: executable_path has been deprecated, please pass in a Service object\n",
      "  browser = webdriver.Chrome(executable_path='/Users/yingtingchen/Downloads/chromedriver')\n"
     ]
    }
   ],
   "source": [
    "# use the selenium webdriver to open a webpage； \n",
    "import pandas as pd\n",
    "import time\n",
    "from selenium import webdriver\n",
    "browser = webdriver.Chrome(executable_path='/Users/yingtingchen/Downloads/chromedriver')\n",
    "browser.get('https://www.itjuzi.com/deathCompany')"
   ]
  },
  {
   "cell_type": "code",
   "execution_count": 7,
   "id": "24467734",
   "metadata": {
    "scrolled": true
   },
   "outputs": [],
   "source": [
    "def get_csv(num,browser,path):\n",
    "    td_content = browser.find_elements_by_tag_name(\"td\")   # acquire all the table content\n",
    "    orign_lst = []\n",
    "    for td in td_content:\n",
    "        orign_lst.append(td.text)\n",
    "    # Extract list values by category\n",
    "    company_name = []\n",
    "    life_time = []\n",
    "    close_time = []\n",
    "    industry = []\n",
    "    place = []\n",
    "    establish_time = []\n",
    "    cast_state = []\n",
    "\n",
    "    # a is the element that is iterated over and added to the corresponding list each time\n",
    "    for a in orign_lst[2:90:9]:\n",
    "        a = a.split('\\n')\n",
    "        company_name.append(a[0])\n",
    "        life_time.append(a[1])\n",
    "\n",
    "    for a in orign_lst[3:90:9]:\n",
    "        close_time.append(a)\n",
    "\n",
    "    for a in orign_lst[4:90:9]:\n",
    "        industry.append(a)\n",
    "\n",
    "    for a in orign_lst[5:90:9]:\n",
    "        place.append(a)\n",
    "\n",
    "    for a in orign_lst[6:90:9]:\n",
    "        establish_time.append(a)\n",
    "\n",
    "    for a in orign_lst[7:90:9]:\n",
    "        cast_state.append(a)\n",
    "    death_lst=[]\n",
    "    kw = browser.find_elements_by_class_name(\"el-icon-arrow-right\") # acquire click buttom for each company\n",
    "    for i in range(10):\n",
    "        str = \"\"\n",
    "        kw[i].click()\n",
    "        time.sleep(6)\n",
    "        dd_content = browser.find_elements_by_tag_name(\"dd\")  # acquire all the death reason after the click\n",
    "        for dd in dd_content:\n",
    "            if(dd.text!=\"\"):\n",
    "                str = dd.text+' '+str\n",
    "        death_lst.append(str)\n",
    "        \n",
    "    # Put all the variables we want into dictionary\n",
    "    die_box = {\n",
    "        'Company name':company_name,\n",
    "        'Life_time':life_time,\n",
    "        'Close time':close_time,\n",
    "        'Industry':industry,\n",
    "        'Place':place,\n",
    "        'Establish time':establish_time,\n",
    "        'Cast state':cast_state,\n",
    "        \"Death reason\":death_lst\n",
    "    }\n",
    "    pd_diecompany = pd.DataFrame.from_dict(die_box,orient='index').T\n",
    "    if num == 0:\n",
    "        flag = True\n",
    "    else: \n",
    "        flag = False\n",
    "    pd_diecompany.to_csv(path,encoding=\"utf_8_sig\",mode='a',header = flag ,index = False)\n",
    "    print(\"完成第\",num+1,\"页爬虫\")\n",
    "    \n",
    "    # click the next page\n",
    "    button = browser.find_element_by_class_name(\"btn-next\")\n",
    "    button.click()\n",
    "    time.sleep(10)"
   ]
  },
  {
   "cell_type": "code",
   "execution_count": 8,
   "id": "25486879",
   "metadata": {
    "scrolled": true
   },
   "outputs": [
    {
     "name": "stdout",
     "output_type": "stream",
     "text": [
      "991\n"
     ]
    },
    {
     "name": "stderr",
     "output_type": "stream",
     "text": [
      "<ipython-input-7-c5d27d782589>:2: DeprecationWarning: find_elements_by_* commands are deprecated. Please use find_elements() instead\n",
      "  td_content = browser.find_elements_by_tag_name(\"td\")\n",
      "<ipython-input-7-c5d27d782589>:35: DeprecationWarning: find_elements_by_* commands are deprecated. Please use find_elements() instead\n",
      "  kw = browser.find_elements_by_class_name(\"el-icon-arrow-right\")\n",
      "<ipython-input-7-c5d27d782589>:40: DeprecationWarning: find_elements_by_* commands are deprecated. Please use find_elements() instead\n",
      "  dd_content = browser.find_elements_by_tag_name(\"dd\")\n"
     ]
    },
    {
     "name": "stdout",
     "output_type": "stream",
     "text": [
      "完成第 992 页爬虫\n"
     ]
    },
    {
     "name": "stderr",
     "output_type": "stream",
     "text": [
      "<ipython-input-7-c5d27d782589>:63: DeprecationWarning: find_element_by_* commands are deprecated. Please use find_element() instead\n",
      "  button = browser.find_element_by_class_name(\"btn-next\")\n"
     ]
    },
    {
     "name": "stdout",
     "output_type": "stream",
     "text": [
      "992\n",
      "完成第 993 页爬虫\n",
      "993\n",
      "完成第 994 页爬虫\n",
      "994\n",
      "完成第 995 页爬虫\n",
      "995\n",
      "完成第 996 页爬虫\n",
      "996\n",
      "完成第 997 页爬虫\n",
      "997\n",
      "完成第 998 页爬虫\n",
      "998\n",
      "完成第 999 页爬虫\n",
      "999\n",
      "完成第 1000 页爬虫\n",
      "1000\n",
      "完成第 1001 页爬虫\n",
      "1001\n",
      "完成第 1002 页爬虫\n",
      "1002\n",
      "完成第 1003 页爬虫\n",
      "1003\n",
      "完成第 1004 页爬虫\n",
      "1004\n",
      "完成第 1005 页爬虫\n",
      "1005\n",
      "完成第 1006 页爬虫\n",
      "1006\n",
      "完成第 1007 页爬虫\n",
      "1007\n",
      "完成第 1008 页爬虫\n",
      "1008\n",
      "完成第 1009 页爬虫\n",
      "1009\n",
      "完成第 1010 页爬虫\n",
      "1010\n",
      "完成第 1011 页爬虫\n",
      "1011\n",
      "完成第 1012 页爬虫\n",
      "1012\n",
      "完成第 1013 页爬虫\n",
      "1013\n",
      "完成第 1014 页爬虫\n",
      "1014\n",
      "完成第 1015 页爬虫\n",
      "1015\n",
      "完成第 1016 页爬虫\n",
      "1016\n",
      "完成第 1017 页爬虫\n",
      "1017\n",
      "完成第 1018 页爬虫\n",
      "1018\n",
      "完成第 1019 页爬虫\n",
      "1019\n",
      "完成第 1020 页爬虫\n",
      "1020\n",
      "完成第 1021 页爬虫\n",
      "1021\n",
      "完成第 1022 页爬虫\n",
      "1022\n",
      "完成第 1023 页爬虫\n",
      "1023\n",
      "完成第 1024 页爬虫\n",
      "1024\n",
      "完成第 1025 页爬虫\n",
      "1025\n",
      "完成第 1026 页爬虫\n",
      "1026\n",
      "完成第 1027 页爬虫\n",
      "1027\n",
      "完成第 1028 页爬虫\n",
      "1028\n",
      "完成第 1029 页爬虫\n",
      "1029\n",
      "完成第 1030 页爬虫\n",
      "1030\n",
      "完成第 1031 页爬虫\n",
      "1031\n",
      "完成第 1032 页爬虫\n",
      "1032\n",
      "完成第 1033 页爬虫\n",
      "1033\n",
      "完成第 1034 页爬虫\n",
      "1034\n",
      "完成第 1035 页爬虫\n",
      "1035\n",
      "完成第 1036 页爬虫\n",
      "1036\n",
      "完成第 1037 页爬虫\n",
      "1037\n",
      "完成第 1038 页爬虫\n",
      "1038\n",
      "完成第 1039 页爬虫\n",
      "1039\n",
      "完成第 1040 页爬虫\n",
      "1040\n",
      "完成第 1041 页爬虫\n",
      "1041\n",
      "完成第 1042 页爬虫\n",
      "1042\n",
      "完成第 1043 页爬虫\n",
      "1043\n",
      "完成第 1044 页爬虫\n",
      "1044\n",
      "完成第 1045 页爬虫\n",
      "1045\n",
      "完成第 1046 页爬虫\n",
      "1046\n",
      "完成第 1047 页爬虫\n",
      "1047\n",
      "完成第 1048 页爬虫\n",
      "1048\n"
     ]
    },
    {
     "ename": "NoSuchWindowException",
     "evalue": "Message: no such window: window was already closed\n  (Session info: chrome=96.0.4664.55)\nStacktrace:\n0   chromedriver                        0x0000000100e426e8 __gxx_personality_v0 + 537764\n1   chromedriver                        0x0000000100dd8d80 __gxx_personality_v0 + 105276\n2   chromedriver                        0x00000001009e26c4 chromedriver + 157380\n3   chromedriver                        0x00000001009d3a1c chromedriver + 96796\n4   chromedriver                        0x00000001009ce3e0 chromedriver + 74720\n5   chromedriver                        0x0000000100a3a780 chromedriver + 518016\n6   chromedriver                        0x0000000100a070c8 chromedriver + 307400\n7   chromedriver                        0x0000000100e05ee0 __gxx_personality_v0 + 289948\n8   chromedriver                        0x0000000100e1a020 __gxx_personality_v0 + 372188\n9   chromedriver                        0x0000000100e1e8ec __gxx_personality_v0 + 390824\n10  chromedriver                        0x0000000100e1af5c __gxx_personality_v0 + 376088\n11  chromedriver                        0x0000000100dfbe9c __gxx_personality_v0 + 248920\n12  chromedriver                        0x0000000100e33d0c __gxx_personality_v0 + 477896\n13  chromedriver                        0x0000000100e33e80 __gxx_personality_v0 + 478268\n14  chromedriver                        0x0000000100e492a8 __gxx_personality_v0 + 565348\n15  libsystem_pthread.dylib             0x000000018be2b878 _pthread_start + 320\n16  libsystem_pthread.dylib             0x000000018be265e0 thread_start + 8\n",
     "output_type": "error",
     "traceback": [
      "\u001b[0;31m---------------------------------------------------------------------------\u001b[0m",
      "\u001b[0;31mNoSuchWindowException\u001b[0m                     Traceback (most recent call last)",
      "\u001b[0;32m<ipython-input-8-06d224f60d36>\u001b[0m in \u001b[0;36m<module>\u001b[0;34m\u001b[0m\n\u001b[1;32m      1\u001b[0m \u001b[0;32mfor\u001b[0m \u001b[0mi\u001b[0m \u001b[0;32min\u001b[0m \u001b[0mrange\u001b[0m\u001b[0;34m(\u001b[0m\u001b[0;36m991\u001b[0m\u001b[0;34m,\u001b[0m\u001b[0;36m1111\u001b[0m\u001b[0;34m)\u001b[0m\u001b[0;34m:\u001b[0m\u001b[0;34m\u001b[0m\u001b[0;34m\u001b[0m\u001b[0m\n\u001b[1;32m      2\u001b[0m     \u001b[0mprint\u001b[0m\u001b[0;34m(\u001b[0m\u001b[0mi\u001b[0m\u001b[0;34m)\u001b[0m\u001b[0;34m\u001b[0m\u001b[0;34m\u001b[0m\u001b[0m\n\u001b[0;32m----> 3\u001b[0;31m     \u001b[0mget_csv\u001b[0m\u001b[0;34m(\u001b[0m\u001b[0mi\u001b[0m\u001b[0;34m,\u001b[0m\u001b[0mbrowser\u001b[0m\u001b[0;34m,\u001b[0m\u001b[0mpath\u001b[0m \u001b[0;34m=\u001b[0m \u001b[0;34m'2019死亡公司.csv'\u001b[0m\u001b[0;34m)\u001b[0m\u001b[0;34m\u001b[0m\u001b[0;34m\u001b[0m\u001b[0m\n\u001b[0m",
      "\u001b[0;32m<ipython-input-7-c5d27d782589>\u001b[0m in \u001b[0;36mget_csv\u001b[0;34m(num, browser, path)\u001b[0m\n\u001b[1;32m     38\u001b[0m         \u001b[0mkw\u001b[0m\u001b[0;34m[\u001b[0m\u001b[0mi\u001b[0m\u001b[0;34m]\u001b[0m\u001b[0;34m.\u001b[0m\u001b[0mclick\u001b[0m\u001b[0;34m(\u001b[0m\u001b[0;34m)\u001b[0m\u001b[0;34m\u001b[0m\u001b[0;34m\u001b[0m\u001b[0m\n\u001b[1;32m     39\u001b[0m         \u001b[0mtime\u001b[0m\u001b[0;34m.\u001b[0m\u001b[0msleep\u001b[0m\u001b[0;34m(\u001b[0m\u001b[0;36m6\u001b[0m\u001b[0;34m)\u001b[0m\u001b[0;34m\u001b[0m\u001b[0;34m\u001b[0m\u001b[0m\n\u001b[0;32m---> 40\u001b[0;31m         \u001b[0mdd_content\u001b[0m \u001b[0;34m=\u001b[0m \u001b[0mbrowser\u001b[0m\u001b[0;34m.\u001b[0m\u001b[0mfind_elements_by_tag_name\u001b[0m\u001b[0;34m(\u001b[0m\u001b[0;34m\"dd\"\u001b[0m\u001b[0;34m)\u001b[0m\u001b[0;34m\u001b[0m\u001b[0;34m\u001b[0m\u001b[0m\n\u001b[0m\u001b[1;32m     41\u001b[0m         \u001b[0;32mfor\u001b[0m \u001b[0mdd\u001b[0m \u001b[0;32min\u001b[0m \u001b[0mdd_content\u001b[0m\u001b[0;34m:\u001b[0m\u001b[0;34m\u001b[0m\u001b[0;34m\u001b[0m\u001b[0m\n\u001b[1;32m     42\u001b[0m             \u001b[0;32mif\u001b[0m\u001b[0;34m(\u001b[0m\u001b[0mdd\u001b[0m\u001b[0;34m.\u001b[0m\u001b[0mtext\u001b[0m\u001b[0;34m!=\u001b[0m\u001b[0;34m\"\"\u001b[0m\u001b[0;34m)\u001b[0m\u001b[0;34m:\u001b[0m\u001b[0;34m\u001b[0m\u001b[0;34m\u001b[0m\u001b[0m\n",
      "\u001b[0;32m~/Desktop/anaconda3/lib/python3.8/site-packages/selenium/webdriver/remote/webdriver.py\u001b[0m in \u001b[0;36mfind_elements_by_tag_name\u001b[0;34m(self, name)\u001b[0m\n\u001b[1;32m    727\u001b[0m             \u001b[0mstacklevel\u001b[0m\u001b[0;34m=\u001b[0m\u001b[0;36m2\u001b[0m\u001b[0;34m,\u001b[0m\u001b[0;34m\u001b[0m\u001b[0;34m\u001b[0m\u001b[0m\n\u001b[1;32m    728\u001b[0m         )\n\u001b[0;32m--> 729\u001b[0;31m         \u001b[0;32mreturn\u001b[0m \u001b[0mself\u001b[0m\u001b[0;34m.\u001b[0m\u001b[0mfind_elements\u001b[0m\u001b[0;34m(\u001b[0m\u001b[0mby\u001b[0m\u001b[0;34m=\u001b[0m\u001b[0mBy\u001b[0m\u001b[0;34m.\u001b[0m\u001b[0mTAG_NAME\u001b[0m\u001b[0;34m,\u001b[0m \u001b[0mvalue\u001b[0m\u001b[0;34m=\u001b[0m\u001b[0mname\u001b[0m\u001b[0;34m)\u001b[0m\u001b[0;34m\u001b[0m\u001b[0;34m\u001b[0m\u001b[0m\n\u001b[0m\u001b[1;32m    730\u001b[0m \u001b[0;34m\u001b[0m\u001b[0m\n\u001b[1;32m    731\u001b[0m     \u001b[0;32mdef\u001b[0m \u001b[0mfind_element_by_class_name\u001b[0m\u001b[0;34m(\u001b[0m\u001b[0mself\u001b[0m\u001b[0;34m,\u001b[0m \u001b[0mname\u001b[0m\u001b[0;34m)\u001b[0m \u001b[0;34m->\u001b[0m \u001b[0mWebElement\u001b[0m\u001b[0;34m:\u001b[0m\u001b[0;34m\u001b[0m\u001b[0;34m\u001b[0m\u001b[0m\n",
      "\u001b[0;32m~/Desktop/anaconda3/lib/python3.8/site-packages/selenium/webdriver/remote/webdriver.py\u001b[0m in \u001b[0;36mfind_elements\u001b[0;34m(self, by, value)\u001b[0m\n\u001b[1;32m   1271\u001b[0m         \u001b[0;31m# Return empty list if driver returns null\u001b[0m\u001b[0;34m\u001b[0m\u001b[0;34m\u001b[0m\u001b[0;34m\u001b[0m\u001b[0m\n\u001b[1;32m   1272\u001b[0m         \u001b[0;31m# See https://github.com/SeleniumHQ/selenium/issues/4555\u001b[0m\u001b[0;34m\u001b[0m\u001b[0;34m\u001b[0m\u001b[0;34m\u001b[0m\u001b[0m\n\u001b[0;32m-> 1273\u001b[0;31m         return self.execute(Command.FIND_ELEMENTS, {\n\u001b[0m\u001b[1;32m   1274\u001b[0m             \u001b[0;34m'using'\u001b[0m\u001b[0;34m:\u001b[0m \u001b[0mby\u001b[0m\u001b[0;34m,\u001b[0m\u001b[0;34m\u001b[0m\u001b[0;34m\u001b[0m\u001b[0m\n\u001b[1;32m   1275\u001b[0m             'value': value})['value'] or []\n",
      "\u001b[0;32m~/Desktop/anaconda3/lib/python3.8/site-packages/selenium/webdriver/remote/webdriver.py\u001b[0m in \u001b[0;36mexecute\u001b[0;34m(self, driver_command, params)\u001b[0m\n\u001b[1;32m    416\u001b[0m         \u001b[0mresponse\u001b[0m \u001b[0;34m=\u001b[0m \u001b[0mself\u001b[0m\u001b[0;34m.\u001b[0m\u001b[0mcommand_executor\u001b[0m\u001b[0;34m.\u001b[0m\u001b[0mexecute\u001b[0m\u001b[0;34m(\u001b[0m\u001b[0mdriver_command\u001b[0m\u001b[0;34m,\u001b[0m \u001b[0mparams\u001b[0m\u001b[0;34m)\u001b[0m\u001b[0;34m\u001b[0m\u001b[0;34m\u001b[0m\u001b[0m\n\u001b[1;32m    417\u001b[0m         \u001b[0;32mif\u001b[0m \u001b[0mresponse\u001b[0m\u001b[0;34m:\u001b[0m\u001b[0;34m\u001b[0m\u001b[0;34m\u001b[0m\u001b[0m\n\u001b[0;32m--> 418\u001b[0;31m             \u001b[0mself\u001b[0m\u001b[0;34m.\u001b[0m\u001b[0merror_handler\u001b[0m\u001b[0;34m.\u001b[0m\u001b[0mcheck_response\u001b[0m\u001b[0;34m(\u001b[0m\u001b[0mresponse\u001b[0m\u001b[0;34m)\u001b[0m\u001b[0;34m\u001b[0m\u001b[0;34m\u001b[0m\u001b[0m\n\u001b[0m\u001b[1;32m    419\u001b[0m             response['value'] = self._unwrap_value(\n\u001b[1;32m    420\u001b[0m                 response.get('value', None))\n",
      "\u001b[0;32m~/Desktop/anaconda3/lib/python3.8/site-packages/selenium/webdriver/remote/errorhandler.py\u001b[0m in \u001b[0;36mcheck_response\u001b[0;34m(self, response)\u001b[0m\n\u001b[1;32m    241\u001b[0m                 \u001b[0malert_text\u001b[0m \u001b[0;34m=\u001b[0m \u001b[0mvalue\u001b[0m\u001b[0;34m[\u001b[0m\u001b[0;34m'alert'\u001b[0m\u001b[0;34m]\u001b[0m\u001b[0;34m.\u001b[0m\u001b[0mget\u001b[0m\u001b[0;34m(\u001b[0m\u001b[0;34m'text'\u001b[0m\u001b[0;34m)\u001b[0m\u001b[0;34m\u001b[0m\u001b[0;34m\u001b[0m\u001b[0m\n\u001b[1;32m    242\u001b[0m             \u001b[0;32mraise\u001b[0m \u001b[0mexception_class\u001b[0m\u001b[0;34m(\u001b[0m\u001b[0mmessage\u001b[0m\u001b[0;34m,\u001b[0m \u001b[0mscreen\u001b[0m\u001b[0;34m,\u001b[0m \u001b[0mstacktrace\u001b[0m\u001b[0;34m,\u001b[0m \u001b[0malert_text\u001b[0m\u001b[0;34m)\u001b[0m  \u001b[0;31m# type: ignore[call-arg]  # mypy is not smart enough here\u001b[0m\u001b[0;34m\u001b[0m\u001b[0;34m\u001b[0m\u001b[0m\n\u001b[0;32m--> 243\u001b[0;31m         \u001b[0;32mraise\u001b[0m \u001b[0mexception_class\u001b[0m\u001b[0;34m(\u001b[0m\u001b[0mmessage\u001b[0m\u001b[0;34m,\u001b[0m \u001b[0mscreen\u001b[0m\u001b[0;34m,\u001b[0m \u001b[0mstacktrace\u001b[0m\u001b[0;34m)\u001b[0m\u001b[0;34m\u001b[0m\u001b[0;34m\u001b[0m\u001b[0m\n\u001b[0m\u001b[1;32m    244\u001b[0m \u001b[0;34m\u001b[0m\u001b[0m\n\u001b[1;32m    245\u001b[0m     \u001b[0;32mdef\u001b[0m \u001b[0m_value_or_default\u001b[0m\u001b[0;34m(\u001b[0m\u001b[0mself\u001b[0m\u001b[0;34m,\u001b[0m \u001b[0mobj\u001b[0m\u001b[0;34m:\u001b[0m \u001b[0mMapping\u001b[0m\u001b[0;34m[\u001b[0m\u001b[0m_KT\u001b[0m\u001b[0;34m,\u001b[0m \u001b[0m_VT\u001b[0m\u001b[0;34m]\u001b[0m\u001b[0;34m,\u001b[0m \u001b[0mkey\u001b[0m\u001b[0;34m:\u001b[0m \u001b[0m_KT\u001b[0m\u001b[0;34m,\u001b[0m \u001b[0mdefault\u001b[0m\u001b[0;34m:\u001b[0m \u001b[0m_VT\u001b[0m\u001b[0;34m)\u001b[0m \u001b[0;34m->\u001b[0m \u001b[0m_VT\u001b[0m\u001b[0;34m:\u001b[0m\u001b[0;34m\u001b[0m\u001b[0;34m\u001b[0m\u001b[0m\n",
      "\u001b[0;31mNoSuchWindowException\u001b[0m: Message: no such window: window was already closed\n  (Session info: chrome=96.0.4664.55)\nStacktrace:\n0   chromedriver                        0x0000000100e426e8 __gxx_personality_v0 + 537764\n1   chromedriver                        0x0000000100dd8d80 __gxx_personality_v0 + 105276\n2   chromedriver                        0x00000001009e26c4 chromedriver + 157380\n3   chromedriver                        0x00000001009d3a1c chromedriver + 96796\n4   chromedriver                        0x00000001009ce3e0 chromedriver + 74720\n5   chromedriver                        0x0000000100a3a780 chromedriver + 518016\n6   chromedriver                        0x0000000100a070c8 chromedriver + 307400\n7   chromedriver                        0x0000000100e05ee0 __gxx_personality_v0 + 289948\n8   chromedriver                        0x0000000100e1a020 __gxx_personality_v0 + 372188\n9   chromedriver                        0x0000000100e1e8ec __gxx_personality_v0 + 390824\n10  chromedriver                        0x0000000100e1af5c __gxx_personality_v0 + 376088\n11  chromedriver                        0x0000000100dfbe9c __gxx_personality_v0 + 248920\n12  chromedriver                        0x0000000100e33d0c __gxx_personality_v0 + 477896\n13  chromedriver                        0x0000000100e33e80 __gxx_personality_v0 + 478268\n14  chromedriver                        0x0000000100e492a8 __gxx_personality_v0 + 565348\n15  libsystem_pthread.dylib             0x000000018be2b878 _pthread_start + 320\n16  libsystem_pthread.dylib             0x000000018be265e0 thread_start + 8\n"
     ]
    }
   ],
   "source": [
    "for i in range(991,1111):\n",
    "    print(i)\n",
    "    get_csv(i,browser,path = '2019死亡公司.csv')"
   ]
  },
  {
   "cell_type": "code",
   "execution_count": null,
   "id": "e23c47b2",
   "metadata": {},
   "outputs": [],
   "source": []
  }
 ],
 "metadata": {
  "kernelspec": {
   "display_name": "Python 3",
   "language": "python",
   "name": "python3"
  },
  "language_info": {
   "codemirror_mode": {
    "name": "ipython",
    "version": 3
   },
   "file_extension": ".py",
   "mimetype": "text/x-python",
   "name": "python",
   "nbconvert_exporter": "python",
   "pygments_lexer": "ipython3",
   "version": "3.8.8"
  }
 },
 "nbformat": 4,
 "nbformat_minor": 5
}
